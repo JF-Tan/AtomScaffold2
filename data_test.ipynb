{
 "cells": [
  {
   "cell_type": "code",
   "execution_count": 1,
   "metadata": {},
   "outputs": [],
   "source": [
    "import orjson\n",
    "\n",
    "with open(\"../data/mptraj.json\", \"rb\") as f:   # 注意 orjson 用二进制模式\n",
    "    data = orjson.loads(f.read())"
   ]
  },
  {
   "cell_type": "code",
   "execution_count": 24,
   "metadata": {},
   "outputs": [],
   "source": [
    "# import os \n",
    "# os.environ[\"HF_ENDPOINT\"] = 'https://hf-mirror.com'\n",
    "\n",
    "\n",
    "from datasets import load_dataset,load_from_disk\n",
    "\n",
    "ds = load_dataset(\"/root/.cache/huggingface/hub/datasets--nimashoghi--mptrj/snapshots/f88fbe46e16524223210654bad9e1b05a15c2adb/data/\")"
   ]
  },
  {
   "cell_type": "code",
   "execution_count": 26,
   "metadata": {},
   "outputs": [
    {
     "data": {
      "text/plain": [
       "DatasetDict({\n",
       "    train: Dataset({\n",
       "        features: ['numbers', 'positions', 'forces', 'cell', 'pbc', 'energy', 'stress', 'e_per_atom_relaxed', 'mp_id', 'energy_per_atom', 'ef_per_atom_relaxed', 'corrected_total_energy', 'ef_per_atom', 'task_id', 'calc_id', 'ionic_step', 'filename', 'extxyz_id', 'num_atoms', 'corrected_total_energy_relaxed', 'energy_referenced', 'corrected_total_energy_referenced', 'corrected_total_energy_relaxed_referenced', 'composition'],\n",
       "        num_rows: 1559916\n",
       "    })\n",
       "    validation: Dataset({\n",
       "        features: ['numbers', 'positions', 'forces', 'cell', 'pbc', 'energy', 'stress', 'e_per_atom_relaxed', 'mp_id', 'energy_per_atom', 'ef_per_atom_relaxed', 'corrected_total_energy', 'ef_per_atom', 'task_id', 'calc_id', 'ionic_step', 'filename', 'extxyz_id', 'num_atoms', 'corrected_total_energy_relaxed', 'energy_referenced', 'corrected_total_energy_referenced', 'corrected_total_energy_relaxed_referenced', 'composition'],\n",
       "        num_rows: 10206\n",
       "    })\n",
       "    test: Dataset({\n",
       "        features: ['numbers', 'positions', 'forces', 'cell', 'pbc', 'energy', 'stress', 'e_per_atom_relaxed', 'mp_id', 'energy_per_atom', 'ef_per_atom_relaxed', 'corrected_total_energy', 'ef_per_atom', 'task_id', 'calc_id', 'ionic_step', 'filename', 'extxyz_id', 'num_atoms', 'corrected_total_energy_relaxed', 'energy_referenced', 'corrected_total_energy_referenced', 'corrected_total_energy_relaxed_referenced', 'composition'],\n",
       "        num_rows: 10273\n",
       "    })\n",
       "})"
      ]
     },
     "execution_count": 26,
     "metadata": {},
     "output_type": "execute_result"
    }
   ],
   "source": [
    "ds"
   ]
  },
  {
   "cell_type": "code",
   "execution_count": 29,
   "metadata": {},
   "outputs": [
    {
     "name": "stderr",
     "output_type": "stream",
     "text": [
      "100%|██████████| 1559916/1559916 [18:09<00:00, 1431.76it/s]\n"
     ]
    },
    {
     "name": "stdout",
     "output_type": "stream",
     "text": [
      "✅ 已保存 1559916 个结构到 /ve/junfu/AtomScaffold2/data/mptraj/train/data\n"
     ]
    }
   ],
   "source": [
    "import lmdb\n",
    "import pickle\n",
    "from tqdm import tqdm\n",
    "def save_lmdb(lmdb_path = '',atoms_list=None):\n",
    "    \n",
    "    env = lmdb.open(\n",
    "        lmdb_path,\n",
    "        map_size=1 << 40,  # 1 TB\n",
    "        subdir=False,\n",
    "        meminit=False,\n",
    "        map_async=True\n",
    "    )\n",
    "\n",
    "    with env.begin(write=True) as txn:\n",
    "        for idx, atoms in tqdm(enumerate(atoms_list), total=len(atoms_list)):\n",
    "            txn.put(\n",
    "                key=f\"{idx}\".encode(\"ascii\"),\n",
    "                value=pickle.dumps(atoms)\n",
    "            )\n",
    "        txn.put(b'length', pickle.dumps(len(atoms_list)))\n",
    "        print(f\"✅ 已保存 {len(atoms_list)} 个结构到 {lmdb_path}\")\n",
    "    env.sync()\n",
    "    env.close()\n",
    "\n",
    "save_lmdb(lmdb_path='/ve/junfu/AtomScaffold2/data/mptraj/train/data',atoms_list=ds['train'])"
   ]
  },
  {
   "cell_type": "code",
   "execution_count": 35,
   "metadata": {},
   "outputs": [
    {
     "name": "stdout",
     "output_type": "stream",
     "text": [
      "read length:1559916\n",
      "available keys:dict_keys(['numbers', 'positions', 'forces', 'cell', 'pbc', 'energy', 'stress', 'e_per_atom_relaxed', 'mp_id', 'energy_per_atom', 'ef_per_atom_relaxed', 'corrected_total_energy', 'ef_per_atom', 'task_id', 'calc_id', 'ionic_step', 'filename', 'extxyz_id', 'num_atoms', 'corrected_total_energy_relaxed', 'energy_referenced', 'corrected_total_energy_referenced', 'corrected_total_energy_relaxed_referenced', 'composition'])\n",
      "used keys:['energy_per_atom', 'forces', 'stress']\n"
     ]
    }
   ],
   "source": [
    "from asf_datasets.lmdb_data import LMDBDataset\n",
    "train_set = LMDBDataset(lmdb_path='/ve/junfu/AtomScaffold2/data/mptraj',split='train',label_keys=['energy_per_atom','forces','stress'])"
   ]
  },
  {
   "cell_type": "code",
   "execution_count": 36,
   "metadata": {},
   "outputs": [
    {
     "data": {
      "text/plain": [
       "Data(x=[14], pos=[14, 3], cell=[3, 3], atomic_numbers=[14], natoms=14, energy_per_atom=-6.793888092041016, forces=[14, 3], stress=[3, 3])"
      ]
     },
     "execution_count": 36,
     "metadata": {},
     "output_type": "execute_result"
    }
   ],
   "source": [
    "train_set[0]"
   ]
  }
 ],
 "metadata": {
  "kernelspec": {
   "display_name": "asf",
   "language": "python",
   "name": "python3"
  },
  "language_info": {
   "codemirror_mode": {
    "name": "ipython",
    "version": 3
   },
   "file_extension": ".py",
   "mimetype": "text/x-python",
   "name": "python",
   "nbconvert_exporter": "python",
   "pygments_lexer": "ipython3",
   "version": "3.12.11"
  }
 },
 "nbformat": 4,
 "nbformat_minor": 2
}
