{
 "cells": [
  {
   "cell_type": "code",
   "execution_count": 1,
   "metadata": {},
   "outputs": [
    {
     "name": "stderr",
     "output_type": "stream",
     "text": [
      "/ve/junfu/miniconda3/envs/asf/lib/python3.12/site-packages/torch_geometric/typing.py:68: UserWarning: An issue occurred while importing 'pyg-lib'. Disabling its usage. Stacktrace: /usr/lib/x86_64-linux-gnu/libc.so.6: version `GLIBC_2.33' not found (required by /ve/junfu/miniconda3/envs/asf/lib/python3.12/site-packages/libpyg.so)\n",
      "  warnings.warn(f\"An issue occurred while importing 'pyg-lib'. \"\n",
      "/ve/junfu/miniconda3/envs/asf/lib/python3.12/site-packages/torch_geometric/typing.py:97: UserWarning: An issue occurred while importing 'torch-cluster'. Disabling its usage. Stacktrace: /usr/lib/x86_64-linux-gnu/libc.so.6: version `GLIBC_2.32' not found (required by /ve/junfu/miniconda3/envs/asf/lib/python3.12/site-packages/torch_cluster/_version_cuda.so)\n",
      "  warnings.warn(f\"An issue occurred while importing 'torch-cluster'. \"\n",
      "/ve/junfu/miniconda3/envs/asf/lib/python3.12/site-packages/torch_geometric/typing.py:113: UserWarning: An issue occurred while importing 'torch-spline-conv'. Disabling its usage. Stacktrace: /usr/lib/x86_64-linux-gnu/libc.so.6: version `GLIBC_2.32' not found (required by /ve/junfu/miniconda3/envs/asf/lib/python3.12/site-packages/torch_spline_conv/_version_cuda.so)\n",
      "  warnings.warn(\n",
      "/ve/junfu/miniconda3/envs/asf/lib/python3.12/site-packages/torch_geometric/typing.py:124: UserWarning: An issue occurred while importing 'torch-sparse'. Disabling its usage. Stacktrace: /usr/lib/x86_64-linux-gnu/libc.so.6: version `GLIBC_2.32' not found (required by /ve/junfu/miniconda3/envs/asf/lib/python3.12/site-packages/torch_sparse/_version_cuda.so)\n",
      "  warnings.warn(f\"An issue occurred while importing 'torch-sparse'. \"\n"
     ]
    },
    {
     "name": "stdout",
     "output_type": "stream",
     "text": [
      "read length:1559916\n",
      "available keys:dict_keys(['numbers', 'positions', 'forces', 'cell', 'pbc', 'energy', 'stress', 'e_per_atom_relaxed', 'mp_id', 'energy_per_atom', 'ef_per_atom_relaxed', 'corrected_total_energy', 'ef_per_atom', 'task_id', 'calc_id', 'ionic_step', 'filename', 'extxyz_id', 'num_atoms', 'corrected_total_energy_relaxed', 'energy_referenced', 'corrected_total_energy_referenced', 'corrected_total_energy_relaxed_referenced', 'composition'])\n",
      "used keys:['energy_per_atom', 'forces', 'stress']\n"
     ]
    }
   ],
   "source": [
    "from asf_datasets.lmdb_data import LMDBDataset\n",
    "from torch_geometric.loader import DataLoader\n",
    "train_set = LMDBDataset(lmdb_path='/ve/junfu/AtomScaffold2/data/mptraj',split='train',label_keys=['energy_per_atom','forces','stress'])\n",
    "data_loader = DataLoader(train_set, batch_size=3, shuffle=True, num_workers=0, pin_memory=True)\n",
    "data = next(iter(data_loader))"
   ]
  },
  {
   "cell_type": "code",
   "execution_count": null,
   "metadata": {},
   "outputs": [
    {
     "name": "stderr",
     "output_type": "stream",
     "text": [
      "/ve/junfu/AtomScaffold2/asf_models/matt/matt.py:18: UserWarning: To copy construct from a tensor, it is recommended to use sourceTensor.detach().clone() or sourceTensor.detach().clone().requires_grad_(True), rather than torch.tensor(sourceTensor).\n",
      "  )\n"
     ]
    },
    {
     "ename": "AttributeError",
     "evalue": "'Args' object has no attribute 'num_blocks'",
     "output_type": "error",
     "traceback": [
      "\u001b[31m---------------------------------------------------------------------------\u001b[39m",
      "\u001b[31mAttributeError\u001b[39m                            Traceback (most recent call last)",
      "\u001b[36mCell\u001b[39m\u001b[36m \u001b[39m\u001b[32mIn[8]\u001b[39m\u001b[32m, line 16\u001b[39m\n\u001b[32m     12\u001b[39m     n_heads = \u001b[32m4\u001b[39m\n\u001b[32m     15\u001b[39m args = Args()\n\u001b[32m---> \u001b[39m\u001b[32m16\u001b[39m model = \u001b[43mmatt\u001b[49m\u001b[43m.\u001b[49m\u001b[43mMattNet\u001b[49m\u001b[43m(\u001b[49m\u001b[43margs\u001b[49m\u001b[43m)\u001b[49m\n\u001b[32m     18\u001b[39m out = model(data)\n\u001b[32m     19\u001b[39m out.shape\n",
      "\u001b[36mFile \u001b[39m\u001b[32m/ve/junfu/AtomScaffold2/asf_models/matt/matt.py:112\u001b[39m, in \u001b[36mMattNet.__init__\u001b[39m\u001b[34m(self, args)\u001b[39m\n\u001b[32m    109\u001b[39m \u001b[38;5;28mself\u001b[39m.gate_inv_equ = GateActivation(lmax=args.lmax, mmax=args.lmax, num_channels=args.edge_embedding_dim)\n\u001b[32m    111\u001b[39m \u001b[38;5;28mself\u001b[39m.main_blocks = nn.ModuleList()\n\u001b[32m--> \u001b[39m\u001b[32m112\u001b[39m \u001b[38;5;28;01mfor\u001b[39;00m _ \u001b[38;5;129;01min\u001b[39;00m \u001b[38;5;28mrange\u001b[39m(\u001b[43margs\u001b[49m\u001b[43m.\u001b[49m\u001b[43mnum_blocks\u001b[49m):\n\u001b[32m    113\u001b[39m     \u001b[38;5;28mself\u001b[39m.main_blocks.append(\n\u001b[32m    114\u001b[39m         MattBlock(args)\n\u001b[32m    115\u001b[39m     )\n",
      "\u001b[31mAttributeError\u001b[39m: 'Args' object has no attribute 'num_blocks'"
     ]
    }
   ],
   "source": [
    "from importlib import reload\n",
    "from asf_models.matt import matt\n",
    "reload(matt)\n",
    "\n",
    "class Args: \n",
    "    max_atoms_number = 128\n",
    "    atom_embedding_dim = 128\n",
    "    edge_embedding_dim = 128\n",
    "    num_basis = 16\n",
    "    cutoff = 5.0\n",
    "    lmax = 2\n",
    "    n_heads = 4\n",
    "    num_blocks = 2\n",
    "    \n",
    "    \n",
    "    \n",
    "args = Args()\n",
    "model = matt.MattNet(args)\n",
    "\n",
    "out = model(data)\n",
    "out.shape"
   ]
  },
  {
   "cell_type": "code",
   "execution_count": null,
   "metadata": {},
   "outputs": [],
   "source": []
  }
 ],
 "metadata": {
  "kernelspec": {
   "display_name": "asf",
   "language": "python",
   "name": "python3"
  },
  "language_info": {
   "codemirror_mode": {
    "name": "ipython",
    "version": 3
   },
   "file_extension": ".py",
   "mimetype": "text/x-python",
   "name": "python",
   "nbconvert_exporter": "python",
   "pygments_lexer": "ipython3",
   "version": "3.12.11"
  }
 },
 "nbformat": 4,
 "nbformat_minor": 2
}
